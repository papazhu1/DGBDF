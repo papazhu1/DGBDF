{
 "cells": [
  {
   "metadata": {
    "ExecuteTime": {
     "end_time": "2024-11-08T04:12:36.342018Z",
     "start_time": "2024-11-08T04:12:36.323826Z"
    }
   },
   "cell_type": "code",
   "source": [
    "from data_util import *\n",
    "from sklearn.metrics import *\n",
    "from imbens.metrics import *\n",
    "from imbens.ensemble import *\n",
    "from sklearn.model_selection import train_test_split, StratifiedKFold\n"
   ],
   "id": "598cf2fafac5bc1",
   "outputs": [],
   "execution_count": 9
  },
  {
   "metadata": {
    "ExecuteTime": {
     "end_time": "2024-11-08T04:12:38.083112Z",
     "start_time": "2024-11-08T04:12:36.348616Z"
    }
   },
   "cell_type": "code",
   "source": [
    "# Load data\n",
    "X, y = get_wine1()"
   ],
   "id": "5053696f899106a6",
   "outputs": [
    {
     "name": "stdout",
     "output_type": "stream",
     "text": [
      "Wine 类别分布: Counter({2: 71, 1: 59, 3: 48})\n",
      "0      1\n",
      "1      1\n",
      "2      1\n",
      "3      1\n",
      "4      1\n",
      "      ..\n",
      "173    0\n",
      "174    0\n",
      "175    0\n",
      "176    0\n",
      "177    0\n",
      "Name: class, Length: 178, dtype: int64\n",
      "Wine 类别分布: Counter({0: 119, 1: 59})\n"
     ]
    }
   ],
   "execution_count": 10
  },
  {
   "metadata": {
    "ExecuteTime": {
     "end_time": "2024-11-08T04:12:38.800351Z",
     "start_time": "2024-11-08T04:12:38.100069Z"
    }
   },
   "cell_type": "code",
   "source": [
    "skf = StratifiedKFold(n_splits=5, shuffle=True, random_state=42)\n",
    "accs = []\n",
    "f1s = []\n",
    "precs = []\n",
    "recs = []\n",
    "gmeans = []\n",
    "aucs = []\n",
    "auprs = []\n",
    "\n",
    "for train_index, test_index in skf.split(X, y):\n",
    "    X_train, X_test = X[train_index], X[test_index]\n",
    "    y_train, y_test = y[train_index], y[test_index]\n",
    "    model = SelfPacedEnsembleClassifier(n_jobs=-1)\n",
    "    model.fit(X_train, y_train)\n",
    "    y_pred = model.predict(X_test)\n",
    "    y_pred_proba = model.predict_proba(X_test)[:, 1]\n",
    "    accs.append(accuracy_score(y_test, y_pred))\n",
    "    f1s.append(f1_score(y_test, y_pred, average='macro'))\n",
    "    precs.append(precision_score(y_test, y_pred, average='macro'))\n",
    "    recs.append(recall_score(y_test, y_pred, average='macro'))\n",
    "    gmeans.append(geometric_mean_score(y_test, y_pred))\n",
    "    aucs.append(roc_auc_score(y_test, y_pred_proba))\n",
    "    auprs.append(average_precision_score(y_test, y_pred_proba))\n",
    "    \n",
    "print('model:', model.__class__)\n",
    "print('Accuracy:', np.mean(accs))\n",
    "print('F1:', np.mean(f1s))\n",
    "print('Precision:', np.mean(precs))\n",
    "print('Recall:', np.mean(recs))\n",
    "print('G-mean:', np.mean(gmeans))\n",
    "print('AUC:', np.mean(aucs))\n",
    "print('AUPR:', np.mean(auprs))"
   ],
   "id": "7af490e40b3001ca",
   "outputs": [
    {
     "name": "stdout",
     "output_type": "stream",
     "text": [
      "model: <class 'imbens.ensemble._under_sampling.self_paced_ensemble.SelfPacedEnsembleClassifier'>\n",
      "Accuracy: 0.9773015873015873\n",
      "F1: 0.9738120435795208\n",
      "Precision: 0.9803076923076922\n",
      "Recall: 0.9700757575757578\n",
      "G-mean: 0.9690557057586862\n",
      "AUC: 0.992086627140975\n",
      "AUPR: 0.9858253674430145\n"
     ]
    }
   ],
   "execution_count": 11
  },
  {
   "metadata": {
    "ExecuteTime": {
     "end_time": "2024-11-08T04:12:39.450962Z",
     "start_time": "2024-11-08T04:12:38.816659Z"
    }
   },
   "cell_type": "code",
   "source": [
    "skf = StratifiedKFold(n_splits=5, shuffle=True, random_state=42)\n",
    "accs = []\n",
    "f1s = []\n",
    "precs = []\n",
    "recs = []\n",
    "gmeans = []\n",
    "aucs = []\n",
    "auprs = []\n",
    "\n",
    "for train_index, test_index in skf.split(X, y):\n",
    "    X_train, X_test = X[train_index], X[test_index]\n",
    "    y_train, y_test = y[train_index], y[test_index]\n",
    "    model = BalanceCascadeClassifier(n_jobs=-1)\n",
    "    model.fit(X_train, y_train)\n",
    "    y_pred = model.predict(X_test)\n",
    "    y_pred_proba = model.predict_proba(X_test)[:, 1]\n",
    "    accs.append(accuracy_score(y_test, y_pred))\n",
    "    f1s.append(f1_score(y_test, y_pred, average='macro'))\n",
    "    precs.append(precision_score(y_test, y_pred, average='macro'))\n",
    "    recs.append(recall_score(y_test, y_pred, average='macro'))\n",
    "    gmeans.append(geometric_mean_score(y_test, y_pred))\n",
    "    aucs.append(roc_auc_score(y_test, y_pred_proba))\n",
    "    auprs.append(average_precision_score(y_test, y_pred_proba))\n",
    "    \n",
    "print('model:', model.__class__)\n",
    "print('Accuracy:', np.mean(accs))\n",
    "print('F1:', np.mean(f1s))\n",
    "print('Precision:', np.mean(precs))\n",
    "print('Recall:', np.mean(recs))\n",
    "print('G-mean:', np.mean(gmeans))\n",
    "print('AUC:', np.mean(aucs))\n",
    "print('AUPR:', np.mean(auprs))"
   ],
   "id": "8bdb290db1082edf",
   "outputs": [
    {
     "name": "stdout",
     "output_type": "stream",
     "text": [
      "model: <class 'imbens.ensemble._under_sampling.balance_cascade.BalanceCascadeClassifier'>\n",
      "Accuracy: 0.9547619047619047\n",
      "F1: 0.9482533512036617\n",
      "Precision: 0.9557142857142857\n",
      "Recall: 0.9448945981554676\n",
      "G-mean: 0.9430612717236377\n",
      "AUC: 0.9911684782608695\n",
      "AUPR: 0.9743537018537018\n"
     ]
    }
   ],
   "execution_count": 12
  },
  {
   "metadata": {
    "ExecuteTime": {
     "end_time": "2024-11-08T04:12:42.769534Z",
     "start_time": "2024-11-08T04:12:39.467966Z"
    }
   },
   "cell_type": "code",
   "source": [
    "skf = StratifiedKFold(n_splits=5, shuffle=True, random_state=42)\n",
    "accs = []\n",
    "f1s = []\n",
    "precs = []\n",
    "recs = []\n",
    "gmeans = []\n",
    "aucs = []\n",
    "auprs = []\n",
    "\n",
    "for train_index, test_index in skf.split(X, y):\n",
    "    X_train, X_test = X[train_index], X[test_index]\n",
    "    y_train, y_test = y[train_index], y[test_index]\n",
    "    model = UnderBaggingClassifier(n_jobs=-1)\n",
    "    model.fit(X_train, y_train)\n",
    "    y_pred = model.predict(X_test)\n",
    "    y_pred_proba = model.predict_proba(X_test)[:, 1]\n",
    "    accs.append(accuracy_score(y_test, y_pred))\n",
    "    f1s.append(f1_score(y_test, y_pred, average='macro'))\n",
    "    precs.append(precision_score(y_test, y_pred, average='macro'))\n",
    "    recs.append(recall_score(y_test, y_pred, average='macro'))\n",
    "    gmeans.append(geometric_mean_score(y_test, y_pred))\n",
    "    aucs.append(roc_auc_score(y_test, y_pred_proba))\n",
    "    auprs.append(average_precision_score(y_test, y_pred_proba))\n",
    "    \n",
    "print('model:', model.__class__)\n",
    "print('Accuracy:', np.mean(accs))\n",
    "print('F1:', np.mean(f1s))\n",
    "print('Precision:', np.mean(precs))\n",
    "print('Recall:', np.mean(recs))\n",
    "print('G-mean:', np.mean(gmeans))\n",
    "print('AUC:', np.mean(aucs))\n",
    "print('AUPR:', np.mean(auprs))"
   ],
   "id": "9066e199f76b930c",
   "outputs": [
    {
     "name": "stdout",
     "output_type": "stream",
     "text": [
      "model: <class 'imbens.ensemble._under_sampling.under_bagging.UnderBaggingClassifier'>\n",
      "Accuracy: 0.9604761904761905\n",
      "F1: 0.9550560722920972\n",
      "Precision: 0.9597142857142856\n",
      "Recall: 0.9539855072463768\n",
      "G-mean: 0.9523687538745194\n",
      "AUC: 0.9917421497584542\n",
      "AUPR: 0.9845627411803882\n"
     ]
    }
   ],
   "execution_count": 13
  },
  {
   "metadata": {
    "ExecuteTime": {
     "end_time": "2024-11-08T04:12:43.742262Z",
     "start_time": "2024-11-08T04:12:42.784924Z"
    }
   },
   "cell_type": "code",
   "source": [
    "skf = StratifiedKFold(n_splits=5, shuffle=True, random_state=42)\n",
    "accs = []\n",
    "f1s = []\n",
    "precs = []\n",
    "recs = []\n",
    "gmeans = []\n",
    "aucs = []\n",
    "auprs = []\n",
    "\n",
    "for train_index, test_index in skf.split(X, y):\n",
    "    X_train, X_test = X[train_index], X[test_index]\n",
    "    y_train, y_test = y[train_index], y[test_index]\n",
    "    model = EasyEnsembleClassifier(n_jobs=-1)\n",
    "    model.fit(X_train, y_train)\n",
    "    y_pred = model.predict(X_test)\n",
    "    y_pred_proba = model.predict_proba(X_test)[:, 1]\n",
    "    accs.append(accuracy_score(y_test, y_pred))\n",
    "    f1s.append(f1_score(y_test, y_pred, average='macro'))\n",
    "    precs.append(precision_score(y_test, y_pred, average='macro'))\n",
    "    recs.append(recall_score(y_test, y_pred, average='macro'))\n",
    "    gmeans.append(geometric_mean_score(y_test, y_pred))\n",
    "    aucs.append(roc_auc_score(y_test, y_pred_proba))\n",
    "    auprs.append(average_precision_score(y_test, y_pred_proba))\n",
    "    \n",
    "print('model:', model.__class__)\n",
    "print('Accuracy:', np.mean(accs))\n",
    "print('F1:', np.mean(f1s))\n",
    "print('Precision:', np.mean(precs))\n",
    "print('Recall:', np.mean(recs))\n",
    "print('G-mean:', np.mean(gmeans))\n",
    "print('AUC:', np.mean(aucs))\n",
    "print('AUPR:', np.mean(auprs))"
   ],
   "id": "9acec79c5dde6b4d",
   "outputs": [
    {
     "name": "stdout",
     "output_type": "stream",
     "text": [
      "model: <class 'imbens.ensemble._under_sampling.easy_ensemble.EasyEnsembleClassifier'>\n",
      "Accuracy: 0.9546031746031746\n",
      "F1: 0.9466673714814325\n",
      "Precision: 0.9587692307692308\n",
      "Recall: 0.9401515151515152\n",
      "G-mean: 0.9375773201897417\n",
      "AUC: 0.9955862977602108\n",
      "AUPR: 0.9915469631378724\n"
     ]
    }
   ],
   "execution_count": 14
  },
  {
   "metadata": {
    "ExecuteTime": {
     "end_time": "2024-11-08T04:19:42.528145Z",
     "start_time": "2024-11-08T04:19:42.177796Z"
    }
   },
   "cell_type": "code",
   "source": [
    "skf = StratifiedKFold(n_splits=5, shuffle=True, random_state=42)\n",
    "accs = []\n",
    "f1s = []\n",
    "precs = []\n",
    "recs = []\n",
    "gmeans = []\n",
    "aucs = []\n",
    "auprs = []\n",
    "\n",
    "for train_index, test_index in skf.split(X, y):\n",
    "    X_train, X_test = X[train_index], X[test_index]\n",
    "    y_train, y_test = y[train_index], y[test_index]\n",
    "    model = RUSBoostClassifier()\n",
    "    model.fit(X_train, y_train)\n",
    "    y_pred = model.predict(X_test)\n",
    "    y_pred_proba = model.predict_proba(X_test)[:, 1]\n",
    "    accs.append(accuracy_score(y_test, y_pred))\n",
    "    f1s.append(f1_score(y_test, y_pred, average='macro'))\n",
    "    precs.append(precision_score(y_test, y_pred, average='macro'))\n",
    "    recs.append(recall_score(y_test, y_pred, average='macro'))\n",
    "    gmeans.append(geometric_mean_score(y_test, y_pred))\n",
    "    aucs.append(roc_auc_score(y_test, y_pred_proba))\n",
    "    auprs.append(average_precision_score(y_test, y_pred_proba))\n",
    "    \n",
    "print('model:', model.__class__)\n",
    "print('Accuracy:', np.mean(accs))\n",
    "print('F1:', np.mean(f1s))\n",
    "print('Precision:', np.mean(precs))\n",
    "print('Recall:', np.mean(recs))\n",
    "print('G-mean:', np.mean(gmeans))\n",
    "print('AUC:', np.mean(aucs))\n",
    "print('AUPR:', np.mean(auprs))"
   ],
   "id": "f45addb8dcff339a",
   "outputs": [
    {
     "name": "stdout",
     "output_type": "stream",
     "text": [
      "model: <class 'imbens.ensemble._under_sampling.rus_boost.RUSBoostClassifier'>\n",
      "Accuracy: 0.954920634920635\n",
      "F1: 0.9485599153060498\n",
      "Precision: 0.9541501831501831\n",
      "Recall: 0.95\n",
      "G-mean: 0.9477539280084473\n",
      "AUC: 0.9971618357487924\n",
      "AUPR: 0.9946581196581196\n"
     ]
    }
   ],
   "execution_count": 16
  },
  {
   "metadata": {
    "ExecuteTime": {
     "end_time": "2024-11-08T04:20:06.002628Z",
     "start_time": "2024-11-08T04:20:05.192094Z"
    }
   },
   "cell_type": "code",
   "source": [
    "skf = StratifiedKFold(n_splits=5, shuffle=True, random_state=42)\n",
    "accs = []\n",
    "f1s = []\n",
    "precs = []\n",
    "recs = []\n",
    "gmeans = []\n",
    "aucs = []\n",
    "auprs = []\n",
    "\n",
    "for train_index, test_index in skf.split(X, y):\n",
    "    X_train, X_test = X[train_index], X[test_index]\n",
    "    y_train, y_test = y[train_index], y[test_index]\n",
    "    model = BalancedRandomForestClassifier(n_jobs=-1)\n",
    "    model.fit(X_train, y_train)\n",
    "    y_pred = model.predict(X_test)\n",
    "    y_pred_proba = model.predict_proba(X_test)[:, 1]\n",
    "    accs.append(accuracy_score(y_test, y_pred))\n",
    "    f1s.append(f1_score(y_test, y_pred, average='macro'))\n",
    "    precs.append(precision_score(y_test, y_pred, average='macro'))\n",
    "    recs.append(recall_score(y_test, y_pred, average='macro'))\n",
    "    gmeans.append(geometric_mean_score(y_test, y_pred))\n",
    "    aucs.append(roc_auc_score(y_test, y_pred_proba))\n",
    "    auprs.append(average_precision_score(y_test, y_pred_proba))\n",
    "    \n",
    "print('model:', model.__class__)\n",
    "print('Accuracy:', np.mean(accs))\n",
    "print('F1:', np.mean(f1s))\n",
    "print('Precision:', np.mean(precs))\n",
    "print('Recall:', np.mean(recs))\n",
    "print('G-mean:', np.mean(gmeans))\n",
    "print('AUC:', np.mean(aucs))\n",
    "print('AUPR:', np.mean(auprs))"
   ],
   "id": "3f3ee08ee5b9ace1",
   "outputs": [
    {
     "name": "stdout",
     "output_type": "stream",
     "text": [
      "model: <class 'imbens.ensemble._under_sampling.balanced_random_forest.BalancedRandomForestClassifier'>\n",
      "Accuracy: 0.9887301587301588\n",
      "F1: 0.9873968547641073\n",
      "Precision: 0.9881410256410257\n",
      "Recall: 0.9875\n",
      "G-mean: 0.9872744236257798\n",
      "AUC: 1.0\n",
      "AUPR: 1.0\n"
     ]
    }
   ],
   "execution_count": 20
  },
  {
   "metadata": {
    "ExecuteTime": {
     "end_time": "2024-11-08T06:11:46.754365Z",
     "start_time": "2024-11-08T06:11:46.276422Z"
    }
   },
   "cell_type": "code",
   "source": [
    "skf = StratifiedKFold(n_splits=5, shuffle=True, random_state=42)\n",
    "accs = []\n",
    "f1s = []\n",
    "precs = []\n",
    "recs = []\n",
    "gmeans = []\n",
    "aucs = []\n",
    "auprs = []\n",
    "\n",
    "for train_index, test_index in skf.split(X, y):\n",
    "    X_train, X_test = X[train_index], X[test_index]\n",
    "    y_train, y_test = y[train_index], y[test_index]\n",
    "    model = AdaCostClassifier()\n",
    "    model.fit(X_train, y_train)\n",
    "    y_pred = model.predict(X_test)\n",
    "    y_pred_proba = model.predict_proba(X_test)[:, 1]\n",
    "    accs.append(accuracy_score(y_test, y_pred))\n",
    "    f1s.append(f1_score(y_test, y_pred, average='macro'))\n",
    "    precs.append(precision_score(y_test, y_pred, average='macro'))\n",
    "    recs.append(recall_score(y_test, y_pred, average='macro'))\n",
    "    gmeans.append(geometric_mean_score(y_test, y_pred))\n",
    "    aucs.append(roc_auc_score(y_test, y_pred_proba))\n",
    "    auprs.append(average_precision_score(y_test, y_pred_proba))\n",
    "    \n",
    "print('model:', model.__class__)\n",
    "print('Accuracy:', np.mean(accs))\n",
    "print('F1:', np.mean(f1s))\n",
    "print('Precision:', np.mean(precs))\n",
    "print('Recall:', np.mean(recs))\n",
    "print('G-mean:', np.mean(gmeans))\n",
    "print('AUC:', np.mean(aucs))\n",
    "print('AUPR:', np.mean(auprs))"
   ],
   "id": "4c7a15a3b984c0aa",
   "outputs": [
    {
     "name": "stdout",
     "output_type": "stream",
     "text": [
      "model: <class 'imbens.ensemble._reweighting.adacost.AdaCostClassifier'>\n",
      "Accuracy: 0.9661904761904762\n",
      "F1: 0.9613567209848431\n",
      "Precision: 0.9661630036630037\n",
      "Recall: 0.9609848484848484\n",
      "G-mean: 0.9596666519237056\n",
      "AUC: 0.9978864734299517\n",
      "AUPR: 0.9961538461538462\n"
     ]
    }
   ],
   "execution_count": 22
  },
  {
   "metadata": {
    "ExecuteTime": {
     "end_time": "2024-11-08T06:12:03.911728Z",
     "start_time": "2024-11-08T06:12:03.485847Z"
    }
   },
   "cell_type": "code",
   "source": [
    "skf = StratifiedKFold(n_splits=5, shuffle=True, random_state=42)\n",
    "accs = []\n",
    "f1s = []\n",
    "precs = []\n",
    "recs = []\n",
    "gmeans = []\n",
    "aucs = []\n",
    "auprs = []\n",
    "\n",
    "for train_index, test_index in skf.split(X, y):\n",
    "    X_train, X_test = X[train_index], X[test_index]\n",
    "    y_train, y_test = y[train_index], y[test_index]\n",
    "    model = AdaUBoostClassifier()\n",
    "    model.fit(X_train, y_train)\n",
    "    y_pred = model.predict(X_test)\n",
    "    y_pred_proba = model.predict_proba(X_test)[:, 1]\n",
    "    accs.append(accuracy_score(y_test, y_pred))\n",
    "    f1s.append(f1_score(y_test, y_pred, average='macro'))\n",
    "    precs.append(precision_score(y_test, y_pred, average='macro'))\n",
    "    recs.append(recall_score(y_test, y_pred, average='macro'))\n",
    "    gmeans.append(geometric_mean_score(y_test, y_pred))\n",
    "    aucs.append(roc_auc_score(y_test, y_pred_proba))\n",
    "    auprs.append(average_precision_score(y_test, y_pred_proba))\n",
    "    \n",
    "print('model:', model.__class__)\n",
    "print('Accuracy:', np.mean(accs))\n",
    "print('F1:', np.mean(f1s))\n",
    "print('Precision:', np.mean(precs))\n",
    "print('Recall:', np.mean(recs))\n",
    "print('G-mean:', np.mean(gmeans))\n",
    "print('AUC:', np.mean(aucs))\n",
    "print('AUPR:', np.mean(auprs))"
   ],
   "id": "e3ed86ee7fe52f88",
   "outputs": [
    {
     "name": "stdout",
     "output_type": "stream",
     "text": [
      "model: <class 'imbens.ensemble._reweighting.adauboost.AdaUBoostClassifier'>\n",
      "Accuracy: 0.9547619047619047\n",
      "F1: 0.9474240433809615\n",
      "Precision: 0.9587912087912087\n",
      "Recall: 0.9443181818181818\n",
      "G-mean: 0.9413863111293258\n",
      "AUC: 0.9955862977602108\n",
      "AUPR: 0.9921097337006428\n"
     ]
    }
   ],
   "execution_count": 23
  },
  {
   "metadata": {
    "ExecuteTime": {
     "end_time": "2024-11-08T06:13:03.185909Z",
     "start_time": "2024-11-08T06:13:02.713101Z"
    }
   },
   "cell_type": "code",
   "source": [
    "skf = StratifiedKFold(n_splits=5, shuffle=True, random_state=42)\n",
    "accs = []\n",
    "f1s = []\n",
    "precs = []\n",
    "recs = []\n",
    "gmeans = []\n",
    "aucs = []\n",
    "auprs = []\n",
    "\n",
    "for train_index, test_index in skf.split(X, y):\n",
    "    X_train, X_test = X[train_index], X[test_index]\n",
    "    y_train, y_test = y[train_index], y[test_index]\n",
    "    model = AsymBoostClassifier()\n",
    "    model.fit(X_train, y_train)\n",
    "    y_pred = model.predict(X_test)\n",
    "    y_pred_proba = model.predict_proba(X_test)[:, 1]\n",
    "    accs.append(accuracy_score(y_test, y_pred))\n",
    "    f1s.append(f1_score(y_test, y_pred, average='macro'))\n",
    "    precs.append(precision_score(y_test, y_pred, average='macro'))\n",
    "    recs.append(recall_score(y_test, y_pred, average='macro'))\n",
    "    gmeans.append(geometric_mean_score(y_test, y_pred))\n",
    "    aucs.append(roc_auc_score(y_test, y_pred_proba))\n",
    "    auprs.append(average_precision_score(y_test, y_pred_proba))\n",
    "    \n",
    "print('model:', model.__class__)\n",
    "print('Accuracy:', np.mean(accs))\n",
    "print('F1:', np.mean(f1s))\n",
    "print('Precision:', np.mean(precs))\n",
    "print('Recall:', np.mean(recs))\n",
    "print('G-mean:', np.mean(gmeans))\n",
    "print('AUC:', np.mean(aucs))\n",
    "print('AUPR:', np.mean(auprs))"
   ],
   "id": "d7be5d8bd94ed8a0",
   "outputs": [
    {
     "name": "stdout",
     "output_type": "stream",
     "text": [
      "model: <class 'imbens.ensemble._reweighting.asymmetric_boost.AsymBoostClassifier'>\n",
      "Accuracy: 0.9547619047619047\n",
      "F1: 0.9474240433809615\n",
      "Precision: 0.9587912087912087\n",
      "Recall: 0.9443181818181818\n",
      "G-mean: 0.9413863111293258\n",
      "AUC: 0.9963438735177865\n",
      "AUPR: 0.9937626262626262\n"
     ]
    }
   ],
   "execution_count": 25
  }
 ],
 "metadata": {
  "kernelspec": {
   "display_name": "Python 3",
   "language": "python",
   "name": "python3"
  },
  "language_info": {
   "codemirror_mode": {
    "name": "ipython",
    "version": 2
   },
   "file_extension": ".py",
   "mimetype": "text/x-python",
   "name": "python",
   "nbconvert_exporter": "python",
   "pygments_lexer": "ipython2",
   "version": "2.7.6"
  }
 },
 "nbformat": 4,
 "nbformat_minor": 5
}

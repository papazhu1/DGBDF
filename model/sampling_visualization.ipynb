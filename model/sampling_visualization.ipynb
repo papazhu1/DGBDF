{
 "cells": [
  {
   "cell_type": "code",
   "id": "initial_id",
   "metadata": {
    "collapsed": true,
    "ExecuteTime": {
     "end_time": "2024-11-14T07:01:07.354583Z",
     "start_time": "2024-11-14T07:01:07.347612Z"
    }
   },
   "source": [
    "from sklearn.model_selection import train_test_split\n",
    "import numpy as np\n",
    "\n",
    "X, y = np.load('pred_results/X.npy'), np.load('pred_results/y.npy')\n",
    "X_train, X_test, y_train, y_test = train_test_split(X, y, test_size=0.4, random_state=42)\n"
   ],
   "outputs": [],
   "execution_count": 2
  },
  {
   "metadata": {
    "ExecuteTime": {
     "end_time": "2024-11-14T09:36:00.089940Z",
     "start_time": "2024-11-14T09:34:42.886455Z"
    }
   },
   "cell_type": "code",
   "source": [
    "import numpy as np\n",
    "import matplotlib.pyplot as plt\n",
    "from sklearn.model_selection import train_test_split\n",
    "import os\n",
    "from imbens.ensemble import (\n",
    "    BalanceCascadeClassifier,\n",
    "    SelfPacedEnsembleClassifier,\n",
    "    UnderBaggingClassifier,\n",
    "    EasyEnsembleClassifier,\n",
    "    RUSBoostClassifier,\n",
    "    BalancedRandomForestClassifier,\n",
    "    AdaCostClassifier,\n",
    "    AdaUBoostClassifier,\n",
    "    AsymBoostClassifier\n",
    ")\n",
    "from DualGranularBalancedDeepForest import DualGranularBalancedDeepForest\n",
    "from demo import get_config\n",
    "# 加载数据\n",
    "X, y = np.load('pred_results/X.npy'), np.load('pred_results/y.npy')\n",
    "X_train, X_test, y_train, y_test = train_test_split(X, y, test_size=0.4, random_state=42)\n",
    "\n",
    "# 配置不平衡数据处理模型\n",
    "ensemble_methods = {\n",
    "    'BalanceCascade': BalanceCascadeClassifier(n_estimators=50),  # 设置生成50棵树\n",
    "    'SelfPacedEnsemble': SelfPacedEnsembleClassifier(n_estimators=50),\n",
    "    'UnderBagging': UnderBaggingClassifier(n_estimators=50),\n",
    "    'EasyEnsemble': EasyEnsembleClassifier(n_estimators=50),\n",
    "    'RUSBoost': RUSBoostClassifier(n_estimators=50),\n",
    "    'BalancedRandomForest': BalancedRandomForestClassifier(n_estimators=50),\n",
    "    'AdaCost': AdaCostClassifier(n_estimators=50),\n",
    "    'AdaUBoost': AdaUBoostClassifier(n_estimators=50),\n",
    "    'AsymBoost': AsymBoostClassifier(n_estimators=50)\n",
    "}\n",
    "\n",
    "# 创建用于保存图像的文件夹\n",
    "output_dir = \"tree_sampling_comparison\"\n",
    "os.makedirs(output_dir, exist_ok=True)\n",
    "\n",
    "# 对每个集成方法进行训练和采样数据的可视化\n",
    "# for method_name, model in ensemble_methods.items():\n",
    "for method_name, model in {'DualGranularBalancedDeepForest': DualGranularBalancedDeepForest(get_config())}.items():\n",
    "    print(f\"Training {method_name}...\")\n",
    "    model.fit(X_train, y_train)\n",
    "\n",
    "    # # 绘制第50棵树的采样数据\n",
    "    # plt.figure(figsize=(6, 6))\n",
    "    # plt.scatter(selected_samples[:, 0], selected_samples[:, 1], color=\"blue\", alpha=0.5, label=\"Selected samples\")\n",
    "    # plt.scatter(not_selected_samples[:, 0], not_selected_samples[:, 1], color=\"gray\", alpha=0.5, label=\"Not selected samples\")\n",
    "    # plt.title(f\"Selected vs Not Selected samples (50th Tree) - {method_name}\")\n",
    "    # plt.legend()\n",
    "    # plt.savefig(os.path.join(output_dir, f\"{method_name}_50th_tree_sampling.png\"), format=\"png\")\n",
    "    # plt.show()\n"
   ],
   "id": "e3e608eb3b4f6c3b",
   "outputs": [
    {
     "name": "stderr",
     "output_type": "stream",
     "text": [
      "Begin to train.... - 2024-11-14 17:34:44,316 - DualGranularBalancedDeepForest\n",
      "the shape of training samples: (32400, 2) - 2024-11-14 17:34:44,318 - DualGranularBalancedDeepForest\n",
      "use f1_macro as training evaluation - 2024-11-14 17:34:44,318 - DualGranularBalancedDeepForest\n",
      "stacking: True, save model: False - 2024-11-14 17:34:44,318 - DualGranularBalancedDeepForest\n",
      "-----------------------------------------layer-0-------------------------------------------- - 2024-11-14 17:34:44,320 - DualGranularBalancedDeepForest\n",
      "The shape of x_train is (32400, 2) - 2024-11-14 17:34:44,320 - DualGranularBalancedDeepForest\n"
     ]
    },
    {
     "name": "stdout",
     "output_type": "stream",
     "text": [
      "Training DualGranularBalancedDeepForest...\n"
     ]
    },
    {
     "name": "stderr",
     "output_type": "stream",
     "text": [
      "layer_0, estimator_0, BalancedEnsembleClassifier, n_fold_0,Accuracy=0.9971, f1_score=0.9894, auc=0.9983, gmean=0.9946, sen=0.9916, spe=0.9975, aupr=0.9812 - 2024-11-14 17:34:53,222 - KFoldWrapper\n",
      "layer_0, estimator_0, BalancedEnsembleClassifier, n_fold_1,Accuracy=0.9974, f1_score=0.9904, auc=0.9995, gmean=0.9899, sen=0.9811, spe=0.9987, aupr=0.9885 - 2024-11-14 17:34:53,229 - KFoldWrapper\n",
      "layer_0, estimator_0, BalancedEnsembleClassifier, n_fold_2,Accuracy=0.9971, f1_score=0.9893, auc=0.9974, gmean=0.9897, sen=0.9811, spe=0.9983, aupr=0.9850 - 2024-11-14 17:34:53,236 - KFoldWrapper\n",
      "layer_0, estimator_0, BalancedEnsembleClassifier, n_fold_3,Accuracy=0.9978, f1_score=0.9921, auc=0.9983, gmean=0.9940, sen=0.9895, spe=0.9985, aupr=0.9811 - 2024-11-14 17:34:53,241 - KFoldWrapper\n",
      "layer_0, estimator_0, BalancedEnsembleClassifier, n_fold_4,Accuracy=0.9965, f1_score=0.9870, auc=0.9993, gmean=0.9874, sen=0.9769, spe=0.9980, aupr=0.9822 - 2024-11-14 17:34:53,247 - KFoldWrapper\n",
      "layer_0, estimator_0, BalancedEnsembleClassifier, wrapper,Accuracy=0.9972, f1_score=0.9896, auc=0.9985, gmean=0.9911, sen=0.9841, spe=0.9982, aupr=0.9836 - 2024-11-14 17:34:53,267 - KFoldWrapper\n",
      "---------- - 2024-11-14 17:34:53,267 - KFoldWrapper\n",
      "layer_0, estimator_1, BalancedEnsembleClassifier, n_fold_0,Accuracy=0.9969, f1_score=0.9888, auc=0.9990, gmean=0.9935, sen=0.9895, spe=0.9975, aupr=0.9765 - 2024-11-14 17:35:02,212 - KFoldWrapper\n",
      "layer_0, estimator_1, BalancedEnsembleClassifier, n_fold_1,Accuracy=0.9966, f1_score=0.9876, auc=0.9993, gmean=0.9875, sen=0.9769, spe=0.9982, aupr=0.9840 - 2024-11-14 17:35:02,217 - KFoldWrapper\n",
      "layer_0, estimator_1, BalancedEnsembleClassifier, n_fold_2,Accuracy=0.9968, f1_score=0.9882, auc=0.9989, gmean=0.9915, sen=0.9853, spe=0.9977, aupr=0.9741 - 2024-11-14 17:35:02,224 - KFoldWrapper\n",
      "layer_0, estimator_1, BalancedEnsembleClassifier, n_fold_3,Accuracy=0.9965, f1_score=0.9871, auc=0.9980, gmean=0.9923, sen=0.9874, spe=0.9972, aupr=0.9764 - 2024-11-14 17:35:02,232 - KFoldWrapper\n",
      "layer_0, estimator_1, BalancedEnsembleClassifier, n_fold_4,Accuracy=0.9977, f1_score=0.9915, auc=0.9971, gmean=0.9929, sen=0.9874, spe=0.9985, aupr=0.9769 - 2024-11-14 17:35:02,242 - KFoldWrapper\n",
      "layer_0, estimator_1, BalancedEnsembleClassifier, wrapper,Accuracy=0.9969, f1_score=0.9886, auc=0.9985, gmean=0.9915, sen=0.9853, spe=0.9978, aupr=0.9776 - 2024-11-14 17:35:02,260 - KFoldWrapper\n",
      "---------- - 2024-11-14 17:35:02,261 - KFoldWrapper\n",
      "layer_0, estimator_2, BalancedEnsembleClassifier, n_fold_0,Accuracy=0.9969, f1_score=0.9888, auc=0.9981, gmean=0.9916, sen=0.9853, spe=0.9978, aupr=0.9767 - 2024-11-14 17:35:11,226 - KFoldWrapper\n",
      "layer_0, estimator_2, BalancedEnsembleClassifier, n_fold_1,Accuracy=0.9972, f1_score=0.9898, auc=0.9986, gmean=0.9908, sen=0.9832, spe=0.9983, aupr=0.9908 - 2024-11-14 17:35:11,232 - KFoldWrapper\n",
      "layer_0, estimator_2, BalancedEnsembleClassifier, n_fold_2,Accuracy=0.9975, f1_score=0.9910, auc=0.9982, gmean=0.9958, sen=0.9937, spe=0.9978, aupr=0.9790 - 2024-11-14 17:35:11,242 - KFoldWrapper\n",
      "layer_0, estimator_2, BalancedEnsembleClassifier, n_fold_3,Accuracy=0.9969, f1_score=0.9888, auc=0.9974, gmean=0.9916, sen=0.9853, spe=0.9978, aupr=0.9832 - 2024-11-14 17:35:11,249 - KFoldWrapper\n",
      "layer_0, estimator_2, BalancedEnsembleClassifier, n_fold_4,Accuracy=0.9961, f1_score=0.9859, auc=0.9983, gmean=0.9863, sen=0.9748, spe=0.9978, aupr=0.9825 - 2024-11-14 17:35:11,256 - KFoldWrapper\n",
      "layer_0, estimator_2, BalancedEnsembleClassifier, wrapper,Accuracy=0.9969, f1_score=0.9889, auc=0.9981, gmean=0.9912, sen=0.9845, spe=0.9979, aupr=0.9824 - 2024-11-14 17:35:11,274 - KFoldWrapper\n",
      "---------- - 2024-11-14 17:35:11,275 - KFoldWrapper\n",
      "layer_0, estimator_3, BalancedEnsembleClassifier, n_fold_0,Accuracy=0.9977, f1_score=0.9916, auc=0.9994, gmean=0.9939, sen=0.9895, spe=0.9983, aupr=0.9862 - 2024-11-14 17:35:20,245 - KFoldWrapper\n",
      "layer_0, estimator_3, BalancedEnsembleClassifier, n_fold_1,Accuracy=0.9971, f1_score=0.9893, auc=0.9992, gmean=0.9897, sen=0.9811, spe=0.9983, aupr=0.9805 - 2024-11-14 17:35:20,252 - KFoldWrapper\n",
      "layer_0, estimator_3, BalancedEnsembleClassifier, n_fold_2,Accuracy=0.9974, f1_score=0.9904, auc=0.9966, gmean=0.9908, sen=0.9832, spe=0.9985, aupr=0.9873 - 2024-11-14 17:35:20,259 - KFoldWrapper\n",
      "layer_0, estimator_3, BalancedEnsembleClassifier, n_fold_3,Accuracy=0.9958, f1_score=0.9848, auc=0.9982, gmean=0.9881, sen=0.9790, spe=0.9972, aupr=0.9803 - 2024-11-14 17:35:20,267 - KFoldWrapper\n",
      "layer_0, estimator_3, BalancedEnsembleClassifier, n_fold_4,Accuracy=0.9965, f1_score=0.9870, auc=0.9972, gmean=0.9884, sen=0.9790, spe=0.9978, aupr=0.9787 - 2024-11-14 17:35:20,273 - KFoldWrapper\n",
      "layer_0, estimator_3, BalancedEnsembleClassifier, wrapper,Accuracy=0.9969, f1_score=0.9886, auc=0.9981, gmean=0.9902, sen=0.9824, spe=0.9980, aupr=0.9826 - 2024-11-14 17:35:20,292 - KFoldWrapper\n",
      "---------- - 2024-11-14 17:35:20,294 - KFoldWrapper\n",
      "The evaluation[f1_macro] of layer_0 is 0.9903 - 2024-11-14 17:35:20,327 - DualGranularBalancedDeepForest\n",
      "-----------------------------------------layer-1-------------------------------------------- - 2024-11-14 17:35:20,329 - DualGranularBalancedDeepForest\n",
      "The shape of x_train is (32400, 2) - 2024-11-14 17:35:20,329 - DualGranularBalancedDeepForest\n"
     ]
    },
    {
     "name": "stdout",
     "output_type": "stream",
     "text": [
      "num_layers_before_append: 0\n",
      "num_layers: 1\n"
     ]
    },
    {
     "name": "stderr",
     "output_type": "stream",
     "text": [
      "layer_1, estimator_0, BalancedEnsembleClassifier, n_fold_0,Accuracy=0.9940, f1_score=0.9775, auc=0.9964, gmean=0.9683, sen=0.9392, spe=0.9983, aupr=0.9829 - 2024-11-14 17:35:30,203 - KFoldWrapper\n",
      "layer_1, estimator_0, BalancedEnsembleClassifier, n_fold_1,Accuracy=0.9948, f1_score=0.9803, auc=0.9936, gmean=0.9677, sen=0.9371, spe=0.9993, aupr=0.9853 - 2024-11-14 17:35:30,208 - KFoldWrapper\n",
      "layer_1, estimator_0, BalancedEnsembleClassifier, n_fold_2,Accuracy=0.9957, f1_score=0.9840, auc=0.9984, gmean=0.9791, sen=0.9602, spe=0.9985, aupr=0.9854 - 2024-11-14 17:35:30,215 - KFoldWrapper\n",
      "layer_1, estimator_0, BalancedEnsembleClassifier, n_fold_3,Accuracy=0.9940, f1_score=0.9775, auc=0.9911, gmean=0.9673, sen=0.9371, spe=0.9985, aupr=0.9723 - 2024-11-14 17:35:30,223 - KFoldWrapper\n",
      "layer_1, estimator_0, BalancedEnsembleClassifier, n_fold_4,Accuracy=0.9943, f1_score=0.9786, auc=0.9922, gmean=0.9685, sen=0.9392, spe=0.9987, aupr=0.9758 - 2024-11-14 17:35:30,231 - KFoldWrapper\n",
      "layer_1, estimator_0, BalancedEnsembleClassifier, wrapper,Accuracy=0.9945, f1_score=0.9796, auc=0.9943, gmean=0.9702, sen=0.9426, spe=0.9987, aupr=0.9803 - 2024-11-14 17:35:30,249 - KFoldWrapper\n",
      "---------- - 2024-11-14 17:35:30,249 - KFoldWrapper\n",
      "layer_1, estimator_1, BalancedEnsembleClassifier, n_fold_0,Accuracy=0.9952, f1_score=0.9821, auc=0.9926, gmean=0.9710, sen=0.9434, spe=0.9993, aupr=0.9853 - 2024-11-14 17:35:40,157 - KFoldWrapper\n",
      "layer_1, estimator_1, BalancedEnsembleClassifier, n_fold_1,Accuracy=0.9934, f1_score=0.9750, auc=0.9934, gmean=0.9620, sen=0.9266, spe=0.9987, aupr=0.9833 - 2024-11-14 17:35:40,163 - KFoldWrapper\n",
      "layer_1, estimator_1, BalancedEnsembleClassifier, n_fold_2,Accuracy=0.9935, f1_score=0.9759, auc=0.9947, gmean=0.9681, sen=0.9392, spe=0.9978, aupr=0.9665 - 2024-11-14 17:35:40,171 - KFoldWrapper\n",
      "layer_1, estimator_1, BalancedEnsembleClassifier, n_fold_3,Accuracy=0.9935, f1_score=0.9754, auc=0.9966, gmean=0.9580, sen=0.9182, spe=0.9995, aupr=0.9882 - 2024-11-14 17:35:40,177 - KFoldWrapper\n",
      "layer_1, estimator_1, BalancedEnsembleClassifier, n_fold_4,Accuracy=0.9941, f1_score=0.9780, auc=0.9923, gmean=0.9664, sen=0.9350, spe=0.9988, aupr=0.9783 - 2024-11-14 17:35:40,183 - KFoldWrapper\n",
      "layer_1, estimator_1, BalancedEnsembleClassifier, wrapper,Accuracy=0.9940, f1_score=0.9773, auc=0.9939, gmean=0.9651, sen=0.9325, spe=0.9988, aupr=0.9804 - 2024-11-14 17:35:40,204 - KFoldWrapper\n",
      "---------- - 2024-11-14 17:35:40,205 - KFoldWrapper\n",
      "layer_1, estimator_2, BalancedEnsembleClassifier, n_fold_0,Accuracy=0.9927, f1_score=0.9724, auc=0.9933, gmean=0.9546, sen=0.9119, spe=0.9992, aupr=0.9790 - 2024-11-14 17:35:50,049 - KFoldWrapper\n",
      "layer_1, estimator_2, BalancedEnsembleClassifier, n_fold_1,Accuracy=0.9946, f1_score=0.9798, auc=0.9964, gmean=0.9706, sen=0.9434, spe=0.9987, aupr=0.9851 - 2024-11-14 17:35:50,056 - KFoldWrapper\n",
      "layer_1, estimator_2, BalancedEnsembleClassifier, n_fold_2,Accuracy=0.9940, f1_score=0.9772, auc=0.9840, gmean=0.9613, sen=0.9245, spe=0.9995, aupr=0.9655 - 2024-11-14 17:35:50,063 - KFoldWrapper\n",
      "layer_1, estimator_2, BalancedEnsembleClassifier, n_fold_3,Accuracy=0.9961, f1_score=0.9856, auc=0.9998, gmean=0.9754, sen=0.9518, spe=0.9997, aupr=0.9949 - 2024-11-14 17:35:50,070 - KFoldWrapper\n",
      "layer_1, estimator_2, BalancedEnsembleClassifier, n_fold_4,Accuracy=0.9931, f1_score=0.9738, auc=0.9914, gmean=0.9588, sen=0.9203, spe=0.9988, aupr=0.9820 - 2024-11-14 17:35:50,076 - KFoldWrapper\n",
      "layer_1, estimator_2, BalancedEnsembleClassifier, wrapper,Accuracy=0.9941, f1_score=0.9778, auc=0.9930, gmean=0.9642, sen=0.9304, spe=0.9992, aupr=0.9814 - 2024-11-14 17:35:50,096 - KFoldWrapper\n",
      "---------- - 2024-11-14 17:35:50,096 - KFoldWrapper\n",
      "layer_1, estimator_3, BalancedEnsembleClassifier, n_fold_0,Accuracy=0.9931, f1_score=0.9738, auc=0.9924, gmean=0.9588, sen=0.9203, spe=0.9988, aupr=0.9821 - 2024-11-14 17:35:59,893 - KFoldWrapper\n",
      "layer_1, estimator_3, BalancedEnsembleClassifier, n_fold_1,Accuracy=0.9941, f1_score=0.9779, auc=0.9914, gmean=0.9634, sen=0.9287, spe=0.9993, aupr=0.9807 - 2024-11-14 17:35:59,900 - KFoldWrapper\n",
      "layer_1, estimator_3, BalancedEnsembleClassifier, n_fold_2,Accuracy=0.9957, f1_score=0.9839, auc=0.9923, gmean=0.9772, sen=0.9560, spe=0.9988, aupr=0.9786 - 2024-11-14 17:35:59,906 - KFoldWrapper\n",
      "layer_1, estimator_3, BalancedEnsembleClassifier, n_fold_3,Accuracy=0.9966, f1_score=0.9875, auc=0.9943, gmean=0.9865, sen=0.9748, spe=0.9983, aupr=0.9803 - 2024-11-14 17:35:59,913 - KFoldWrapper\n",
      "layer_1, estimator_3, BalancedEnsembleClassifier, n_fold_4,Accuracy=0.9924, f1_score=0.9714, auc=0.9931, gmean=0.9564, sen=0.9161, spe=0.9985, aupr=0.9746 - 2024-11-14 17:35:59,920 - KFoldWrapper\n",
      "layer_1, estimator_3, BalancedEnsembleClassifier, wrapper,Accuracy=0.9944, f1_score=0.9790, auc=0.9927, gmean=0.9685, sen=0.9392, spe=0.9988, aupr=0.9791 - 2024-11-14 17:35:59,939 - KFoldWrapper\n",
      "---------- - 2024-11-14 17:35:59,940 - KFoldWrapper\n",
      "The evaluation[f1_macro] of layer_1 is 0.9858 - 2024-11-14 17:36:00,046 - DualGranularBalancedDeepForest\n",
      "best_layer: 0, current_layer:1, save layers: 1 - 2024-11-14 17:36:00,046 - DualGranularBalancedDeepForest\n",
      "training finish... - 2024-11-14 17:36:00,046 - DualGranularBalancedDeepForest\n"
     ]
    },
    {
     "name": "stdout",
     "output_type": "stream",
     "text": [
      "num_layers_before_append: 1\n",
      "num_layers: 2\n"
     ]
    }
   ],
   "execution_count": 1
  }
 ],
 "metadata": {
  "kernelspec": {
   "display_name": "Python 3",
   "language": "python",
   "name": "python3"
  },
  "language_info": {
   "codemirror_mode": {
    "name": "ipython",
    "version": 2
   },
   "file_extension": ".py",
   "mimetype": "text/x-python",
   "name": "python",
   "nbconvert_exporter": "python",
   "pygments_lexer": "ipython2",
   "version": "2.7.6"
  }
 },
 "nbformat": 4,
 "nbformat_minor": 5
}

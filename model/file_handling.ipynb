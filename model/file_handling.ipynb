{
 "cells": [
  {
   "cell_type": "code",
   "id": "initial_id",
   "metadata": {
    "collapsed": true,
    "ExecuteTime": {
     "end_time": "2024-11-12T11:39:41.116284Z",
     "start_time": "2024-11-12T11:39:41.082691Z"
    }
   },
   "source": [
    "from docx import Document\n",
    "from pathlib import Path\n",
    "\n",
    "# 创建一个新的 Word 文档\n",
    "doc = Document()\n",
    "doc.add_heading(\"Classification Results\", level=1)\n",
    "\n",
    "# 设置 PDF 文件夹路径\n",
    "output_dir = \"classification_results\"\n",
    "pdf_files = sorted(Path(output_dir).glob(\"*.pdf\"))\n",
    "\n",
    "# 在 Word 文档中插入 PDF 文件作为对象\n",
    "for pdf_file in pdf_files:\n",
    "    # 插入 PDF 文件名称\n",
    "    doc.add_paragraph(pdf_file.stem)\n",
    "    \n",
    "    # 插入 PDF 文件路径\n",
    "    p = doc.add_paragraph()\n",
    "    run = p.add_run(f\"{pdf_file}\")\n",
    "    run.underline = True\n",
    "    p.style = 'BodyText'\n",
    "\n",
    "# 保存 Word 文档\n",
    "doc.save(\"Classification_Results_with_PDF_Links.docx\")\n"
   ],
   "outputs": [
    {
     "name": "stderr",
     "output_type": "stream",
     "text": [
      "D:\\Anaconda\\envs\\machine-learning\\lib\\site-packages\\docx\\styles\\styles.py:130: UserWarning: style lookup by style_id is deprecated. Use style name as key instead.\n",
      "  return self._get_style_id_from_style(self[style_name], style_type)\n"
     ]
    }
   ],
   "execution_count": 7
  }
 ],
 "metadata": {
  "kernelspec": {
   "display_name": "Python 3",
   "language": "python",
   "name": "python3"
  },
  "language_info": {
   "codemirror_mode": {
    "name": "ipython",
    "version": 2
   },
   "file_extension": ".py",
   "mimetype": "text/x-python",
   "name": "python",
   "nbconvert_exporter": "python",
   "pygments_lexer": "ipython2",
   "version": "2.7.6"
  }
 },
 "nbformat": 4,
 "nbformat_minor": 5
}
